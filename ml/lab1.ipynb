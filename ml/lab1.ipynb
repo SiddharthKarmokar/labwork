{
 "cells": [
  {
   "cell_type": "code",
   "execution_count": 1,
   "id": "f8280d14",
   "metadata": {},
   "outputs": [
    {
     "data": {
      "text/plain": [
       "'d:\\\\123cs0061'"
      ]
     },
     "execution_count": 1,
     "metadata": {},
     "output_type": "execute_result"
    }
   ],
   "source": [
    "import os\n",
    "os.getcwd()"
   ]
  },
  {
   "cell_type": "markdown",
   "id": "6c256ce2",
   "metadata": {},
   "source": [
    "## Set Union"
   ]
  },
  {
   "cell_type": "code",
   "execution_count": 4,
   "id": "e7db8945",
   "metadata": {},
   "outputs": [
    {
     "name": "stdout",
     "output_type": "stream",
     "text": [
      "5\n"
     ]
    }
   ],
   "source": [
    "n = int(input())\n",
    "s1 = set(map(int, input().split()))\n",
    "m = int(input())\n",
    "s2 = set(map(int, input().split()))\n",
    "s3 = s1.union(s2)\n",
    "print(len(s3))"
   ]
  },
  {
   "cell_type": "markdown",
   "id": "87f80009",
   "metadata": {},
   "source": [
    "## Set Intersection Count"
   ]
  },
  {
   "cell_type": "code",
   "execution_count": 6,
   "id": "150322df",
   "metadata": {},
   "outputs": [
    {
     "name": "stdout",
     "output_type": "stream",
     "text": [
      "1\n"
     ]
    }
   ],
   "source": [
    "n = int(input())\n",
    "s1 = set(input().split())\n",
    "m = int(input())\n",
    "s2 = set(input().split())\n",
    "s3 = s1.intersection(s2)\n",
    "print(len(s3))"
   ]
  },
  {
   "cell_type": "markdown",
   "id": "33c5adc7",
   "metadata": {},
   "source": [
    "## Set Symmetric Difference"
   ]
  },
  {
   "cell_type": "code",
   "execution_count": null,
   "id": "32209b92",
   "metadata": {},
   "outputs": [
    {
     "name": "stdout",
     "output_type": "stream",
     "text": [
      "3\n",
      "4\n",
      "5\n",
      "6\n",
      "7\n",
      "8\n"
     ]
    }
   ],
   "source": [
    "s1 = set(map(int, input().split()))\n",
    "s2 = set(map(int, input().split()))\n",
    "s3 = s1.symmetric_difference(s2)\n",
    "s3.sort()\n",
    "for x in s3:\n",
    "    print(x)"
   ]
  },
  {
   "cell_type": "markdown",
   "id": "22120f2c",
   "metadata": {},
   "source": [
    "## Check Subset"
   ]
  },
  {
   "cell_type": "code",
   "execution_count": 8,
   "id": "96b7ab31",
   "metadata": {},
   "outputs": [
    {
     "name": "stdout",
     "output_type": "stream",
     "text": [
      "A is a subset of B\n"
     ]
    }
   ],
   "source": [
    "n = int(input())\n",
    "s1 = set(input().split())\n",
    "m = int(input())\n",
    "s2 = set(input().split())\n",
    "issub = s1.issubset(s2)\n",
    "if issub:\n",
    "    print(\"A is a subset of B\")\n",
    "else:\n",
    "    print(\"A is not a subset of B\")"
   ]
  },
  {
   "cell_type": "markdown",
   "id": "c2fc9de5",
   "metadata": {},
   "source": [
    "## Set Difference"
   ]
  },
  {
   "cell_type": "code",
   "execution_count": 15,
   "id": "677b8890",
   "metadata": {},
   "outputs": [
    {
     "name": "stdout",
     "output_type": "stream",
     "text": [
      "1\n",
      "3\n",
      "5\n"
     ]
    }
   ],
   "source": [
    "n = int(input())\n",
    "s1 = list(map(int, input().split()))\n",
    "s1.sort()\n",
    "m = int(input())\n",
    "s2 = list(map(int, input().split()))\n",
    "s2.sort()\n",
    "s1, s2 = set(s1), set(s2)\n",
    "diff = (s1.difference(s2))\n",
    "for x in diff:\n",
    "    print(x)"
   ]
  },
  {
   "cell_type": "markdown",
   "id": "b42d0e3e",
   "metadata": {},
   "source": [
    "# Numpy Coding Problems"
   ]
  },
  {
   "cell_type": "markdown",
   "id": "755b91a8",
   "metadata": {},
   "source": [
    "## Array Manipulation with Numpy"
   ]
  },
  {
   "cell_type": "code",
   "execution_count": 21,
   "id": "119f6be7",
   "metadata": {},
   "outputs": [
    {
     "name": "stdout",
     "output_type": "stream",
     "text": [
      "[ 4  1  8  2 12]\n"
     ]
    }
   ],
   "source": [
    "import numpy as np\n",
    "n = int(input())\n",
    "arr = np.array(list(map(int, input().split())))\n",
    "for i, x in enumerate(arr):\n",
    "    if arr[i]%2:\n",
    "        arr[i] = (x/2)\n",
    "    else:\n",
    "        arr[i] = (x*2)\n",
    "print(arr)"
   ]
  },
  {
   "cell_type": "markdown",
   "id": "0eebf9a9",
   "metadata": {},
   "source": [
    "## Matrix Diagonal Sum Using Numpy"
   ]
  },
  {
   "cell_type": "code",
   "execution_count": 28,
   "id": "f08c2e97",
   "metadata": {},
   "outputs": [
    {
     "name": "stdout",
     "output_type": "stream",
     "text": [
      "15\n"
     ]
    }
   ],
   "source": [
    "n = int(input())\n",
    "arr = []\n",
    "for _ in range(n):\n",
    "    temp = list(map(int, input().split()))\n",
    "    arr.append(temp)\n",
    "leftsum, rightsum = 0, 0\n",
    "for i in range(n):\n",
    "    for j in range(n):\n",
    "        if i == j:\n",
    "            leftsum += arr[i][j]\n",
    "        if i + j == n - 1:\n",
    "            rightsum += arr[i][j]\n",
    "print(abs(leftsum - rightsum))"
   ]
  },
  {
   "cell_type": "markdown",
   "id": "d2594606",
   "metadata": {},
   "source": [
    "## Reshape Array using Numpy "
   ]
  },
  {
   "cell_type": "code",
   "execution_count": null,
   "id": "2643d20c",
   "metadata": {},
   "outputs": [
    {
     "name": "stdout",
     "output_type": "stream",
     "text": [
      "[[1 2 3]\n",
      " [4 5 6]]\n"
     ]
    }
   ],
   "source": [
    "import numpy as np\n",
    "n, r, c = map(int, input().split())\n",
    "arr = np.array(list(map(int, input().split())))\n",
    "new = arr.reshape((r, c))\n",
    "print(new)"
   ]
  },
  {
   "cell_type": "markdown",
   "id": "8d266d71",
   "metadata": {},
   "source": [
    "## Element Wise Operations on Two Arrays"
   ]
  },
  {
   "cell_type": "code",
   "execution_count": 32,
   "id": "da25b457",
   "metadata": {},
   "outputs": [
    {
     "name": "stdout",
     "output_type": "stream",
     "text": [
      "[ 3  6  9 12]\n",
      "[1 2 3 4]\n",
      "[ 2  8 18 32]\n",
      "[2 2 2 2]\n"
     ]
    }
   ],
   "source": [
    "import numpy as np\n",
    "n = int(input())\n",
    "x = np.array(list(map(int, input().split())))\n",
    "y = np.array(list(map(int, input().split())))\n",
    "print(x + y)\n",
    "print(x - y)\n",
    "print(x * y)\n",
    "print( x // y)"
   ]
  },
  {
   "cell_type": "markdown",
   "id": "37f69362",
   "metadata": {},
   "source": [
    "## Find Unique Elements Using Numpy "
   ]
  },
  {
   "cell_type": "code",
   "execution_count": 35,
   "id": "45bdf582",
   "metadata": {},
   "outputs": [
    {
     "name": "stdout",
     "output_type": "stream",
     "text": [
      "[4 5 6 7 8 9]\n"
     ]
    }
   ],
   "source": [
    "import numpy as np\n",
    "n = int(input())\n",
    "arr = np.array(list(map(int, input().split())))\n",
    "print(np.unique(arr))"
   ]
  },
  {
   "cell_type": "code",
   "execution_count": 37,
   "id": "51929f34",
   "metadata": {},
   "outputs": [
    {
     "name": "stdout",
     "output_type": "stream",
     "text": [
      "[10, 15, 8]\n"
     ]
    }
   ],
   "source": [
    "import numpy as np\n",
    "\n",
    "n = int(input())\n",
    "arr = np.array(list(map(int, input().split())))\n",
    "threshold = int(input())\n",
    "mask = arr > threshold\n",
    "res = []\n",
    "for i, val in enumerate(mask):\n",
    "    if val:\n",
    "        res.append(int(arr[i]))\n",
    "print(res)"
   ]
  },
  {
   "cell_type": "code",
   "execution_count": null,
   "id": "20f45377",
   "metadata": {},
   "outputs": [],
   "source": []
  }
 ],
 "metadata": {
  "kernelspec": {
   "display_name": "lab",
   "language": "python",
   "name": "python3"
  },
  "language_info": {
   "codemirror_mode": {
    "name": "ipython",
    "version": 3
   },
   "file_extension": ".py",
   "mimetype": "text/x-python",
   "name": "python",
   "nbconvert_exporter": "python",
   "pygments_lexer": "ipython3",
   "version": "3.10.0"
  }
 },
 "nbformat": 4,
 "nbformat_minor": 5
}
